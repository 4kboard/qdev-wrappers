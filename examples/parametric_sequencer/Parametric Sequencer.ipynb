{
 "cells": [
  {
   "cell_type": "markdown",
   "metadata": {},
   "source": [
    "# Tutorial for the ParametricSequencer\n",
    "\n",
    "The ParametricSequencer is a virtual instrument that facilitates the control of an AWG. The basic principle of the sequencer is that it takes a single template element that is defined with symbols as introduced in PR90 in broadbean and creates a sequence from it by replicating it for different values for selected symbols. For example a template element could define a rectangular pulse with a certain amplitude defined through the symbol 'amplitude'. For given setpoints `('amplitude', [0.1, 0.2, 0.3])`  the parametric sequencer would create a sequence of three elements, all being rectangular pulses but with the given different amplitudes.\n",
    "\n",
    "### Sequence Parameters\n",
    "Furthermore one can use a template element that has further symbols, like 'pulse_duration' in the aforementioned example. These symbols become available as qcodes parameters and can be get and set. When setting one of those parameters the sequence gets updated and reuploaded.\n",
    "\n",
    "### Repeat Modes and Setpoint Parameters\n",
    "The sequencer can be operated in three different `repeat_mode`s: 'sequence', 'element', and 'inner'.\n",
    "\n",
    "In sequence mode the whole sequence is repeated. In 'element' mode, only a single element is repeated. For the selection of the repeated element the sequence the sequencer also provides qcodes parameters. Here a 'set'-command does not cause a reupload but simply a jump to the element that relises the requeseted parameters (more precisely: to the element that has a value closest to the requested value).\n",
    "The 'inner' mode is not implemented yet. It is relevant when we have two sets of setpoints, whose tensor product defines the parameter grid and we want to repeat a certain row of inner setpoints in that space.\n",
    "\n",
    "### AWG interface\n",
    "The communication with the awgs is abstracted into an awg interface. This notebook can be run without an AWG present by using the SimulatedAWGInterface that simply plots the resulting actions. For real instruments, so far there is only an interface for a AWG5014.\n",
    "\n",
    "## Example\n",
    "Lets take a look at some example code.\n",
    "\n",
    "To run the example you also need Braodbean PR90 and if you want to use the AWG5014 you will also need the qcodes PR1167\n",
    "\n",
    "Lets first setup the AWG and the interface:"
   ]
  },
  {
   "cell_type": "code",
   "execution_count": 1,
   "metadata": {},
   "outputs": [],
   "source": [
    "real_instrument_present = True"
   ]
  },
  {
   "cell_type": "code",
   "execution_count": 2,
   "metadata": {},
   "outputs": [],
   "source": [
    "import numpy as np\n",
    "from copy import copy\n",
    "from lomentum import Segment, SegmentGroup, Element, Sequence\n",
    "from lomentum.atoms import sine, ramp, flat, zero, marker_on, marker_off\n",
    "from lomentum.plotting import plotter\n",
    "\n",
    "from qdev_wrappers.customised_instruments.parametric_sequencer import ParametricSequencer\n",
    "from qdev_wrappers.customised_instruments.awg_interface import AWG5014Interface, SimulatedAWGInterface\n",
    "from qcodes import Instrument"
   ]
  },
  {
   "cell_type": "code",
   "execution_count": 3,
   "metadata": {},
   "outputs": [
    {
     "name": "stdout",
     "output_type": "stream",
     "text": [
      "Connected to: TEKTRONIX AWG5014C (serial:B051039, firmware:SCPI:99.0 FW:4.6.0.7) in 0.41s\n"
     ]
    }
   ],
   "source": [
    "if real_instrument_present:\n",
    "    from qdev_wrappers.station_configurator import StationConfigurator\n",
    "    sc = StationConfigurator()\n",
    "    awg = sc.load_instrument('AWG5014')\n",
    "    awg.clock_freq(1e7)\n",
    "    awg_int = AWG5014Interface(awg=awg)\n",
    "else:\n",
    "    awg_int = SimulatedAWGInterface()"
   ]
  },
  {
   "cell_type": "markdown",
   "metadata": {},
   "source": [
    "The following example uses a template element similar to the one used in the Broadbean (v1) Tutorial. It produces a centered pi pulse and a marker with a given delay:"
   ]
  },
  {
   "cell_type": "code",
   "execution_count": 4,
   "metadata": {},
   "outputs": [
    {
     "data": {
      "image/png": "[encoded data removed]",
      "text/plain": [
       "<Figure size 432x288 with 4 Axes>"
      ]
     },
     "metadata": {},
     "output_type": "display_data"
    }
   ],
   "source": [
    "seg1 = zero(duration='flex_time')\n",
    "seg2 = flat(duration='pulse_duration', amplitude='pulse_amplitude')\n",
    "seg3 = zero(duration='flex_time')\n",
    "\n",
    "pi_pulse = SegmentGroup(seg1, seg2, seg3,\n",
    "                        duration='total_duration')\n",
    "\n",
    "m1 = marker_off(duration='pre_marker_time')\n",
    "m2 = marker_on(duration='marker_time')\n",
    "m3 = marker_off(duration='post_marker_time')\n",
    "\n",
    "markers = SegmentGroup(m1, m2, m3,\n",
    "                       duration='total_duration')\n",
    "\n",
    "def mytransformation(context):\n",
    "    context['flex_time'] = 0.5*(context['total_duration'] - context['pulse_duration'])\n",
    "    context['pre_marker_time'] = context['flex_time'] + context['marker_delay']\n",
    "    context['post_marker_time'] = context['total_duration'] - context['marker_time'] - context['pre_marker_time']\n",
    "\n",
    "template_element = Element(segments={1: pi_pulse,\n",
    "                                     '3M2': markers},\n",
    "                           sequencing={'nrep':2},\n",
    "                           transformation=mytransformation)\n",
    "\n",
    "context = {'total_duration': 3e-4,\n",
    "           'marker_time': 2e-5,\n",
    "           'marker_delay': 5e-5,\n",
    "           'pulse_duration': 0.5e-4,\n",
    "           'pulse_amplitude': 1}\n",
    "\n",
    "pulse_durations = np.linspace(0e-4,2.9e-4,3)\n",
    "\n",
    "inner_setpoints = ('pulse_duration', pulse_durations)\n",
    "\n",
    "plotter(template_element, context=context, SR=awg_int.get_SR())"
   ]
  },
  {
   "cell_type": "markdown",
   "metadata": {},
   "source": [
    "As setpoints we want to use the pulse duration. The marker (lower row) will be automatically adjusted.\n",
    "\n",
    "Next, let us create the ParametricSequencer providing it with the awg interface, the template, the setpoints and the context:"
   ]
  },
  {
   "cell_type": "code",
   "execution_count": 5,
   "metadata": {},
   "outputs": [],
   "source": [
    "try:\n",
    "    ps = Instrument.find_instrument('PS')\n",
    "    ps.close()\n",
    "except KeyError:\n",
    "    pass\n",
    "ps = ParametricSequencer(name='PS',\n",
    "                         awg=awg_int,\n",
    "                         template_element=template_element,\n",
    "                         context=context,\n",
    "                         inner_setpoints=inner_setpoints)"
   ]
  },
  {
   "cell_type": "markdown",
   "metadata": {},
   "source": [
    "On creation the sequence gets already uploaded. As expected we get a sequence with three different pulse durations.\n",
    "\n",
    "### Sequence Parameters\n",
    "\n",
    "The sequence parameters, as provided in the context, are exposed in the channel 'sequence':"
   ]
  },
  {
   "cell_type": "code",
   "execution_count": 6,
   "metadata": {},
   "outputs": [
    {
     "data": {
      "text/plain": [
       "{'total_duration': <qcodes.instrument.parameter.Parameter: total_duration at 2165795318528>,\n",
       " 'marker_time': <qcodes.instrument.parameter.Parameter: marker_time at 2165795318808>,\n",
       " 'marker_delay': <qcodes.instrument.parameter.Parameter: marker_delay at 2165795422336>,\n",
       " 'pulse_duration': <qcodes.instrument.parameter.Parameter: pulse_duration at 2165795422896>,\n",
       " 'pulse_amplitude': <qcodes.instrument.parameter.Parameter: pulse_amplitude at 2165795424800>}"
      ]
     },
     "execution_count": 6,
     "metadata": {},
     "output_type": "execute_result"
    }
   ],
   "source": [
    "ps.sequence.parameters"
   ]
  },
  {
   "cell_type": "markdown",
   "metadata": {},
   "source": [
    "The sequence can be modified via those parameters, for example lets increase the marker duration:"
   ]
  },
  {
   "cell_type": "code",
   "execution_count": 7,
   "metadata": {},
   "outputs": [],
   "source": [
    "ps.sequence.marker_time(7e-5)"
   ]
  },
  {
   "cell_type": "markdown",
   "metadata": {},
   "source": [
    "### The single_upload Context Manager\n",
    "\n",
    "For each change of parameters the sequence is uploaded. To avoid this long process a context manager can be used to have a single upload even though multiple parameters are changed: (only one plot appears)"
   ]
  },
  {
   "cell_type": "code",
   "execution_count": 8,
   "metadata": {},
   "outputs": [],
   "source": [
    "with ps.single_upload():\n",
    "    ps.sequence.marker_delay(5e-5)\n",
    "    ps.sequence.marker_time(6e-6)"
   ]
  },
  {
   "cell_type": "markdown",
   "metadata": {},
   "source": [
    "### Element Repeat Mode\n",
    "\n",
    "From here one can change to element repeat mode. Without having specified an element, the first element will be repeated:"
   ]
  },
  {
   "cell_type": "code",
   "execution_count": 9,
   "metadata": {},
   "outputs": [
    {
     "name": "stdout",
     "output_type": "stream",
     "text": [
      "stop repeating None start 1\n"
     ]
    }
   ],
   "source": [
    "ps.repeat_mode('element')"
   ]
  },
  {
   "cell_type": "markdown",
   "metadata": {},
   "source": [
    "There is only one parameter available for stepping in the repeat mode for this case (only inner setpoints are defined), which as defined above with the setpoints, is the pulse duration:"
   ]
  },
  {
   "cell_type": "code",
   "execution_count": 10,
   "metadata": {},
   "outputs": [
    {
     "data": {
      "text/plain": [
       "{'pulse_duration': <qcodes.instrument.parameter.Parameter: pulse_duration at 2165795425024>}"
      ]
     },
     "execution_count": 10,
     "metadata": {},
     "output_type": "execute_result"
    }
   ],
   "source": [
    "ps.repeat.parameters"
   ]
  },
  {
   "cell_type": "markdown",
   "metadata": {},
   "source": [
    "To step to another element the parameter can be set:"
   ]
  },
  {
   "cell_type": "code",
   "execution_count": 11,
   "metadata": {},
   "outputs": [
    {
     "name": "stdout",
     "output_type": "stream",
     "text": [
      "stop repeating 1 start 2\n"
     ]
    }
   ],
   "source": [
    "ps.repeat.pulse_duration(0.1e-3)"
   ]
  },
  {
   "cell_type": "markdown",
   "metadata": {},
   "source": [
    "Switch between sequence mode and element mode remembers the current step:"
   ]
  },
  {
   "cell_type": "code",
   "execution_count": 12,
   "metadata": {},
   "outputs": [
    {
     "name": "stdout",
     "output_type": "stream",
     "text": [
      "stop repeating 2 start 2\n"
     ]
    }
   ],
   "source": [
    "ps.repeat_mode('sequence')\n",
    "ps.repeat_mode('element')"
   ]
  },
  {
   "cell_type": "markdown",
   "metadata": {},
   "source": [
    "## 2D sequence\n",
    "Here is a slightly more complicated example with inner and outer setpoints, resulting into a 2D sequence.\n",
    "Furthermore an initial segment is specified, that gets prepended to the sequence and is not included in the stepping. There is also another new keyword argument: 'first_element' which enables to specify a different first element of the series (as requested). In contrast to the initial element, will this first element be included in the stepping"
   ]
  },
  {
   "cell_type": "code",
   "execution_count": 13,
   "metadata": {},
   "outputs": [],
   "source": [
    "seg1 = zero(duration='flex_time')\n",
    "seg2 = flat(duration='pulse_duration', amplitude='pulse_amplitude')\n",
    "seg3 = zero(duration='flex_time')\n",
    "\n",
    "pi_pulse = SegmentGroup(seg1, seg2, seg3,\n",
    "                        duration='total_duration')\n",
    "\n",
    "m1 = marker_off(duration='pre_marker_time')\n",
    "m2 = marker_on(duration='marker_time')\n",
    "m3 = marker_off(duration='post_marker_time')\n",
    "\n",
    "markers = SegmentGroup(m1, m2, m3,\n",
    "                       duration='total_duration')\n",
    "\n",
    "def mytransformation(context):\n",
    "    context['flex_time'] = 0.5*(context['total_duration'] - context['pulse_duration'])\n",
    "    context['pre_marker_time'] = context['flex_time'] + context['marker_delay']\n",
    "    context['post_marker_time'] = context['total_duration'] - context['marker_time'] - context['pre_marker_time']\n",
    "\n",
    "template_element = Element(segments={1: pi_pulse,\n",
    "                                     2: pi_pulse,\n",
    "                                     '3M2': markers},\n",
    "                           sequencing={'nrep':2},\n",
    "                           transformation=mytransformation)\n",
    "first_element = copy(template_element)\n",
    "first_element.segments['3M2'] = marker_off(duration='total_duration')\n",
    "\n",
    "\n",
    "ze = zero(duration='total_duration')\n",
    "initial_element = Element(segments={1: ze,\n",
    "                                    2: ze,\n",
    "                                    '3M2': markers},\n",
    "                          local_context={'pre_marker_time':5e-5,\n",
    "                                         'marker_time':2e-5,\n",
    "                                         'post_marker_time':5e-5,\n",
    "                                         'total_duration':12e-5})\n",
    "\n",
    "\n",
    "context = {'total_duration': 3e-4,\n",
    "           'marker_time': 2e-5,\n",
    "           'marker_delay': 5e-5,\n",
    "           'pulse_duration': 0.5e-4,\n",
    "           'pulse_amplitude': 1}\n",
    "\n",
    "pulse_durations = np.linspace(0e-4,2.9e-4,3)\n",
    "\n",
    "inner_setpoints = ('pulse_duration', pulse_durations)\n",
    "outer_setpoints = ('pulse_amplitude', np.linspace(0.1,1,3))"
   ]
  },
  {
   "cell_type": "code",
   "execution_count": 14,
   "metadata": {},
   "outputs": [],
   "source": [
    "try:\n",
    "    ps = Instrument.find_instrument('PS')\n",
    "    ps.close()\n",
    "except KeyError:\n",
    "    pass\n",
    "ps = ParametricSequencer(name='PS',\n",
    "                         awg=awg_int,\n",
    "                         template_element=template_element,\n",
    "                         first_sequence_element=first_element,\n",
    "                         initial_element=initial_element,\n",
    "                         context=context,\n",
    "                         inner_setpoints=inner_setpoints,\n",
    "                         outer_setpoints=outer_setpoints)"
   ]
  },
  {
   "cell_type": "markdown",
   "metadata": {},
   "source": [
    "As expected we see a sequence with 9+1 elements. The very first element only has the marker and the second one is missing the marker.\n",
    "\n",
    "\n",
    "We can step to an element that is now defined by the set of inner and outer setpoints. Here there is not yet any context manager to minimize the communication overhead and the awg will make 3 steps: (the error messag is due to plotting a signal with zero amplitude)"
   ]
  },
  {
   "cell_type": "code",
   "execution_count": 15,
   "metadata": {},
   "outputs": [
    {
     "name": "stdout",
     "output_type": "stream",
     "text": [
      "stop repeating None start 2\n",
      "stop repeating 2 start 2\n",
      "stop repeating 2 start 3\n"
     ]
    }
   ],
   "source": [
    "ps.repeat_mode('element')\n",
    "ps.repeat.pulse_amplitude(outer_setpoints[1][0])\n",
    "ps.repeat.pulse_duration(inner_setpoints[1][1])"
   ]
  },
  {
   "cell_type": "markdown",
   "metadata": {},
   "source": [
    "### Setting new setpoints\n",
    "We can modify the sequence by chnaging the setpoints:"
   ]
  },
  {
   "cell_type": "code",
   "execution_count": 16,
   "metadata": {},
   "outputs": [
    {
     "name": "stdout",
     "output_type": "stream",
     "text": [
      "stop repeating None start 2\n"
     ]
    }
   ],
   "source": [
    "inner_setpoints = ('marker_time', np.linspace(0e-4,1e-4,3))\n",
    "outer_setpoints = ('marker_delay', np.linspace(0e-4,1e-5,3))\n",
    "ps.set_setpoints(inner=inner_setpoints, outer=outer_setpoints)"
   ]
  },
  {
   "cell_type": "markdown",
   "metadata": {},
   "source": [
    "(The first image results from uploading, but the mode stays unchanged as 'element' mode here back at the first element)"
   ]
  },
  {
   "cell_type": "markdown",
   "metadata": {},
   "source": [
    "It is also possible to load different templates. Everything gets stored in metadata (except for the elements - template, first, initial - , for which the serialization has not been implemented yet).\n",
    "\n",
    "## Next Steps\n",
    "The next steps here will be to get the 'inner repeat mode' to work and then consider the possible ways of extending to keyword like paramters, e.g. storing different gates, that can be addressed by their name.\n",
    "Another extension could be the ability to reprogramm the order of the setpoints without uploading, so that a gate sequence can be created.\n",
    "\n",
    "I am happy about any kind of feedback!"
   ]
  },
  {
   "cell_type": "markdown",
   "metadata": {},
   "source": [
    "### Experimental yaml format\n",
    "\n",
    "There is an experimental feature to create a seqeunce for the sequencer in with a yaml file. Feel free to play around:"
   ]
  },
  {
   "cell_type": "code",
   "execution_count": 18,
   "metadata": {},
   "outputs": [
    {
     "data": {
      "image/png": "[encoded data removed]",
      "text/plain": [
       "<Figure size 432x288 with 4 Axes>"
      ]
     },
     "metadata": {},
     "output_type": "display_data"
    }
   ],
   "source": [
    "import yaml\n",
    "from lomentum.loader import read_segment, read_element\n",
    "\n",
    "file = \"\"\"\n",
    " rabi:\n",
    "    template_element:\n",
    "        duration: total_duration\n",
    "        segments:\n",
    "            main_channel:\n",
    "                - SegmentGroup:  # driving\n",
    "                    duration: driving_stage_duration\n",
    "                    segments:\n",
    "                        - zero: {duration: initial_wait}\n",
    "                        - flat: {duration: pi_2, amplitude: pulse_amplitude}\n",
    "                        - zero: {duration: evolution_time}\n",
    "                        - flat: {duration: pi, amplitude: pulse_amplitude}\n",
    "                        - zero: {duration: evolution_time}\n",
    "                        - flat: {duration: pi_2, amplitude: pulse_amplitude}\n",
    "                    transformation:\n",
    "                        type: declarative_linear_transformation\n",
    "                        data:\n",
    "                            - pi:\n",
    "                                - [2, pi_2]\n",
    "                            - initial_wait:\n",
    "                                - [1, driving_stage_duration]\n",
    "                                - [-2, pi_2]\n",
    "                                - [-1, pi]\n",
    "                                - [-2, evolution_time]\n",
    "                - SegmentGroup:  # readout\n",
    "                    duration: readout_stage_duration\n",
    "                    segments:\n",
    "                        - zero: {duration: readout_delay}\n",
    "                        - flat: {duration: readout_duration, amplitude: readout_amplitude}\n",
    "                        - zero: {duration: post_readout_duration}\n",
    "            alazar_marker:\n",
    "                - marker_off: {duration: driving_stage_duration}\n",
    "                - marker_pulse:\n",
    "                    duration: readout_stage_duration\n",
    "                    delay: pre_marker_duration\n",
    "                    marker_duration: readout_marker_duration\n",
    "        transformation:\n",
    "            type: declarative_linear_transformation\n",
    "            data:\n",
    "                - post_readout_duration:\n",
    "                    - [1, readout_stage_duration]\n",
    "                    - [-1, readout_delay]\n",
    "                    - [-1, readout_duration]\n",
    "                - pre_marker_duration:\n",
    "                    - [1, readout_delay]\n",
    "                    - [-1, readout_marker_delay]\n",
    "\"\"\"\n",
    "yf = yaml.load(file)\n",
    "e = read_element(yf['rabi']['template_element'])\n",
    "test_context={'driving_stage_duration': 1e-2,\n",
    "              'pi_2':1e-3,\n",
    "              'pulse_amplitude': 0.5,\n",
    "              'evolution_time':2e-3,\n",
    "              'readout_stage_duration': 1e-2,\n",
    "              'readout_delay': 1e-3,\n",
    "              'readout_duration': 3e-3,\n",
    "              'readout_amplitude': 1,\n",
    "              'readout_marker_delay': 1e-3,\n",
    "              'readout_marker_duration':0.5e-3}\n",
    "plotter(e, SR=1e6, context=test_context)"
   ]
  },
  {
   "cell_type": "code",
   "execution_count": null,
   "metadata": {},
   "outputs": [],
   "source": []
  }
 ],
 "metadata": {
  "kernelspec": {
   "display_name": "Python 3",
   "language": "python",
   "name": "python3"
  },
  "language_info": {
   "codemirror_mode": {
    "name": "ipython",
    "version": 3
   },
   "file_extension": ".py",
   "mimetype": "text/x-python",
   "name": "python",
   "nbconvert_exporter": "python",
   "pygments_lexer": "ipython3",
   "version": "3.6.5"
  },
  "toc": {
   "base_numbering": 1,
   "nav_menu": {},
   "number_sections": true,
   "sideBar": true,
   "skip_h1_title": false,
   "title_cell": "Table of Contents",
   "title_sidebar": "Contents",
   "toc_cell": false,
   "toc_position": {},
   "toc_section_display": true,
   "toc_window_display": false
  }
 },
 "nbformat": 4,
 "nbformat_minor": 2
}
